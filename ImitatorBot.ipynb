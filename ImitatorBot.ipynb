{
 "cells": [
  {
   "cell_type": "code",
   "execution_count": 1,
   "metadata": {
    "collapsed": true,
    "deletable": true,
    "editable": true
   },
   "outputs": [],
   "source": [
    "import json \n",
    "import requests\n",
    "import time\n",
    "import urllib\n",
    "import sys, random, collections, os"
   ]
  },
  {
   "cell_type": "code",
   "execution_count": 2,
   "metadata": {
    "collapsed": true,
    "deletable": true,
    "editable": true
   },
   "outputs": [],
   "source": [
    "# Since we split on whitespace, this can never be a word\n",
    "NONWORD = \"\\n\"\n",
    "\n",
    "class Markov():\n",
    "\n",
    "\tdef __init__(self, order=2):\n",
    "\t\tself.output = \"\"\n",
    "\t\tself.order = order\n",
    "\t\tself.table = collections.defaultdict(list)\n",
    "\t\tself.seen = collections.deque([NONWORD] * self.order, self.order)\n",
    "\n",
    "\t# Generate table\n",
    "\tdef generate_table(self, filename):\n",
    "\t\tfor line in open(filename): \n",
    "\t\t\tfor word in line.split():\n",
    "\t\t\t\tself.table[tuple(self.seen)].append(word)\n",
    "\t\t\t\tself.seen.append(word)\n",
    "\t\tself.table[tuple(self.seen)].append(NONWORD) # Mark the end of the file\n",
    "\n",
    "\t#table, seen = generate_table(\"gk_papers.txt\")\n",
    "\n",
    "\t# Generate output\n",
    "\tdef generate_output(self, max_words=100):\n",
    "\t\tself.output = \"\"\n",
    "\t\tself.seen.extend([NONWORD] * self.order) # clear it all\n",
    "\t\tfor i in range(max_words):\n",
    "\t\t\tword = random.choice(self.table[tuple(self.seen)])\n",
    "\t\t\tif word == NONWORD:\n",
    "\t\t\t\texit()\n",
    "\t\t\tself.output = self.output + word + \" \"\n",
    "\t\t\tself.seen.append(word)\n",
    "\n",
    "\n",
    "\tdef walk_directory(self, rootDir):\n",
    "\t\tfor dirName, subdirList, fileList in os.walk(rootDir):\n",
    "\t\t\tprint('Found directory: %s' % dirName)\n",
    "\t\t\tfor fname in fileList:\n",
    "\t\t\t\tself.generate_table(os.path.join(dirName,fname))\n",
    "\t\t\t\t#print('\\t%s' % fname)"
   ]
  },
  {
   "cell_type": "code",
   "execution_count": 1,
   "metadata": {
    "collapsed": false,
    "deletable": true,
    "editable": true,
    "scrolled": false
   },
   "outputs": [
    {
     "ename": "NameError",
     "evalue": "name 'Markov' is not defined",
     "output_type": "error",
     "traceback": [
      "\u001b[0;31m---------------------------------------------------------------------------\u001b[0m",
      "\u001b[0;31mNameError\u001b[0m                                 Traceback (most recent call last)",
      "\u001b[0;32m<ipython-input-1-629a639a09ed>\u001b[0m in \u001b[0;36m<module>\u001b[0;34m()\u001b[0m\n\u001b[1;32m      1\u001b[0m \u001b[0mpeople\u001b[0m \u001b[0;34m=\u001b[0m \u001b[0;34m[\u001b[0m\u001b[0;34m\"trump\"\u001b[0m\u001b[0;34m,\u001b[0m \u001b[0;34m\"clinton\"\u001b[0m\u001b[0;34m,\u001b[0m \u001b[0;34m\"bojack\"\u001b[0m\u001b[0;34m,\u001b[0m \u001b[0;34m\"shakespeare\"\u001b[0m\u001b[0;34m]\u001b[0m\u001b[0;34m\u001b[0m\u001b[0m\n\u001b[0;32m----> 2\u001b[0;31m \u001b[0mmarkovChains\u001b[0m \u001b[0;34m=\u001b[0m \u001b[0;34m[\u001b[0m\u001b[0mMarkov\u001b[0m\u001b[0;34m(\u001b[0m\u001b[0morder\u001b[0m\u001b[0;34m=\u001b[0m\u001b[0;36m1\u001b[0m\u001b[0;34m)\u001b[0m\u001b[0;34m,\u001b[0m \u001b[0mMarkov\u001b[0m\u001b[0;34m(\u001b[0m\u001b[0morder\u001b[0m\u001b[0;34m=\u001b[0m\u001b[0;36m1\u001b[0m\u001b[0;34m)\u001b[0m\u001b[0;34m,\u001b[0m \u001b[0mMarkov\u001b[0m\u001b[0;34m(\u001b[0m\u001b[0morder\u001b[0m\u001b[0;34m=\u001b[0m\u001b[0;36m1\u001b[0m\u001b[0;34m)\u001b[0m\u001b[0;34m]\u001b[0m\u001b[0;34m\u001b[0m\u001b[0m\n\u001b[0m\u001b[1;32m      3\u001b[0m \u001b[0mi\u001b[0m \u001b[0;34m=\u001b[0m \u001b[0;36m0\u001b[0m\u001b[0;34m\u001b[0m\u001b[0m\n\u001b[1;32m      4\u001b[0m \u001b[0;32mwhile\u001b[0m \u001b[0mi\u001b[0m \u001b[0;34m<\u001b[0m \u001b[0mlen\u001b[0m\u001b[0;34m(\u001b[0m\u001b[0mpeople\u001b[0m\u001b[0;34m)\u001b[0m\u001b[0;34m:\u001b[0m\u001b[0;34m\u001b[0m\u001b[0m\n\u001b[1;32m      5\u001b[0m     \u001b[0mmarkovChains\u001b[0m\u001b[0;34m[\u001b[0m\u001b[0mi\u001b[0m\u001b[0;34m]\u001b[0m \u001b[0;34m=\u001b[0m \u001b[0mMarkov\u001b[0m\u001b[0;34m(\u001b[0m\u001b[0morder\u001b[0m\u001b[0;34m=\u001b[0m\u001b[0;36m3\u001b[0m\u001b[0;34m)\u001b[0m\u001b[0;34m\u001b[0m\u001b[0m\n",
      "\u001b[0;31mNameError\u001b[0m: name 'Markov' is not defined"
     ]
    }
   ],
   "source": [
    "people = [\"trump\", \"clinton\", \"bojack\", \"shakespeare\"]\n",
    "markovChains = [Markov(order=1), Markov(order=1), Markov(order=1), Markov(order=1), Markov(order=1), Markov(order=1)]\n",
    "i = 0\n",
    "while i < len(people):\n",
    "    markovChains[i] = Markov(order=3)\n",
    "    markovChains[i].walk_directory('./data/'+people[i])\n",
    "    i = i + 1\n",
    "\n",
    "def getReply(text):\n",
    "    person = \"null\"\n",
    "    i = 0\n",
    "    while i < len(people):\n",
    "        if people[i] in text.lower():\n",
    "            person = people[i]\n",
    "            m = markovChains[i]\n",
    "        i = i + 1\n",
    "    if person == \"null\":\n",
    "        message = \"Whom should I imitate? I can imitate:\"\n",
    "        i = 0\n",
    "        while i < len(people):\n",
    "            message += \" \" + people[i]\n",
    "            i = i + 1\n",
    "        return message\n",
    "    m.generate_output(max_words=50)\n",
    "    return m.output"
   ]
  },
  {
   "cell_type": "code",
   "execution_count": 4,
   "metadata": {
    "collapsed": false,
    "deletable": true,
    "editable": true
   },
   "outputs": [
    {
     "ename": "KeyboardInterrupt",
     "evalue": "",
     "output_type": "error",
     "traceback": [
      "\u001b[0;31m---------------------------------------------------------------------------\u001b[0m",
      "\u001b[0;31mKeyboardInterrupt\u001b[0m                         Traceback (most recent call last)",
      "\u001b[0;32m<ipython-input-4-dc8071aaecb9>\u001b[0m in \u001b[0;36m<module>\u001b[0;34m()\u001b[0m\n\u001b[1;32m     61\u001b[0m \u001b[0;34m\u001b[0m\u001b[0m\n\u001b[1;32m     62\u001b[0m \u001b[0;32mif\u001b[0m \u001b[0m__name__\u001b[0m \u001b[0;34m==\u001b[0m \u001b[0;34m'__main__'\u001b[0m\u001b[0;34m:\u001b[0m\u001b[0;34m\u001b[0m\u001b[0m\n\u001b[0;32m---> 63\u001b[0;31m     \u001b[0mmain\u001b[0m\u001b[0;34m(\u001b[0m\u001b[0;34m)\u001b[0m\u001b[0;34m\u001b[0m\u001b[0m\n\u001b[0m",
      "\u001b[0;32m<ipython-input-4-dc8071aaecb9>\u001b[0m in \u001b[0;36mmain\u001b[0;34m()\u001b[0m\n\u001b[1;32m     57\u001b[0m             \u001b[0mlast_update_id\u001b[0m \u001b[0;34m=\u001b[0m \u001b[0mget_last_update_id\u001b[0m\u001b[0;34m(\u001b[0m\u001b[0mupdates\u001b[0m\u001b[0;34m)\u001b[0m \u001b[0;34m+\u001b[0m \u001b[0;36m1\u001b[0m\u001b[0;34m\u001b[0m\u001b[0m\n\u001b[1;32m     58\u001b[0m             \u001b[0mecho_all\u001b[0m\u001b[0;34m(\u001b[0m\u001b[0mupdates\u001b[0m\u001b[0;34m)\u001b[0m\u001b[0;34m\u001b[0m\u001b[0m\n\u001b[0;32m---> 59\u001b[0;31m         \u001b[0mtime\u001b[0m\u001b[0;34m.\u001b[0m\u001b[0msleep\u001b[0m\u001b[0;34m(\u001b[0m\u001b[0;36m0.5\u001b[0m\u001b[0;34m)\u001b[0m\u001b[0;34m\u001b[0m\u001b[0m\n\u001b[0m\u001b[1;32m     60\u001b[0m \u001b[0;34m\u001b[0m\u001b[0m\n\u001b[1;32m     61\u001b[0m \u001b[0;34m\u001b[0m\u001b[0m\n",
      "\u001b[0;31mKeyboardInterrupt\u001b[0m: "
     ]
    }
   ],
   "source": [
    "TOKEN = \"321534474:AAFZTRNsQ6bb9hEd0_vMAFFLfX18lMVC4yU\" # don't put this in your repo! (put in config, then import config)\n",
    "URL = \"https://api.telegram.org/bot{}/\".format(TOKEN)\n",
    "\n",
    "def get_url(url):\n",
    "    response = requests.get(url)\n",
    "    content = response.content.decode(\"utf8\")\n",
    "    return content\n",
    "\n",
    "\n",
    "def get_json_from_url(url):\n",
    "    content = get_url(url)\n",
    "    js = json.loads(content)\n",
    "    return js\n",
    "\n",
    "\n",
    "def get_updates(offset=None):\n",
    "    url = URL + \"getUpdates\"\n",
    "    if offset:\n",
    "        url += \"?offset={}\".format(offset)\n",
    "    js = get_json_from_url(url)\n",
    "    return js\n",
    "\n",
    "\n",
    "def get_last_update_id(updates):\n",
    "    update_ids = []\n",
    "    for update in updates[\"result\"]:\n",
    "        update_ids.append(int(update[\"update_id\"]))\n",
    "    return max(update_ids)\n",
    "\n",
    "\n",
    "def echo_all(updates):\n",
    "    for update in updates[\"result\"]:\n",
    "        text = update[\"message\"][\"text\"]\n",
    "        chat = update[\"message\"][\"chat\"][\"id\"]\n",
    "        send_message(getReply(text), chat)\n",
    "\n",
    "\n",
    "def get_last_chat_id_and_text(updates):\n",
    "    num_updates = len(updates[\"result\"])\n",
    "    last_update = num_updates - 1\n",
    "    text = updates[\"result\"][last_update][\"message\"][\"text\"]\n",
    "    chat_id = updates[\"result\"][last_update][\"message\"][\"chat\"][\"id\"]\n",
    "    return (text, chat_id)\n",
    "\n",
    "\n",
    "def send_message(text, chat_id):\n",
    "    text = urllib.parse.quote_plus(text) # urllib.parse.quote_plus(text) # (python3)\n",
    "    url = URL + \"sendMessage?text={}&chat_id={}\".format(text, chat_id)\n",
    "    get_url(url)\n",
    "\n",
    "\n",
    "def main():\n",
    "    last_update_id = None\n",
    "    while True:\n",
    "        updates = get_updates(last_update_id)\n",
    "        if len(updates[\"result\"]) > 0:\n",
    "            last_update_id = get_last_update_id(updates) + 1\n",
    "            echo_all(updates)\n",
    "        time.sleep(0.5)\n",
    "\n",
    "\n",
    "if __name__ == '__main__':\n",
    "    main()"
   ]
  }
 ],
 "metadata": {
  "kernelspec": {
   "display_name": "Python 3",
   "language": "python",
   "name": "python3"
  },
  "language_info": {
   "codemirror_mode": {
    "name": "ipython",
    "version": 3
   },
   "file_extension": ".py",
   "mimetype": "text/x-python",
   "name": "python",
   "nbconvert_exporter": "python",
   "pygments_lexer": "ipython3",
   "version": "3.5.2"
  }
 },
 "nbformat": 4,
 "nbformat_minor": 2
}
